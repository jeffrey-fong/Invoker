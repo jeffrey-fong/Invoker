{
 "cells": [
  {
   "cell_type": "code",
   "execution_count": 1,
   "metadata": {},
   "outputs": [],
   "source": [
    "import json\n",
    "import openai\n",
    "\n",
    "openai.api_base = \"http://localhost:8000\"\n",
    "openai.api_key = \"test\""
   ]
  },
  {
   "cell_type": "code",
   "execution_count": 2,
   "metadata": {},
   "outputs": [],
   "source": [
    "# Define functions\n",
    "from datetime import datetime\n",
    "\n",
    "def get_time(location, format=\"12-hour\"):\n",
    "    times = {\"Singapore\": \"08:00\", \"London\": \"00:00\", \"New York\": \"20:00\", \"Beijing\": \"08:00\"}\n",
    "    return datetime.strptime(times[location], \"%H:%M\").strftime(\"%r\") if format == \"12-hour\" else times[location]"
   ]
  },
  {
   "cell_type": "code",
   "execution_count": 3,
   "metadata": {},
   "outputs": [
    {
     "data": {
      "text/plain": [
       "<OpenAIObject chat.completion id=e2322c58-6aa6-4539-8cbc-e5219b67befe at 0x7f2bc8256890> JSON: {\n",
       "  \"id\": \"e2322c58-6aa6-4539-8cbc-e5219b67befe\",\n",
       "  \"object\": \"chat.completion\",\n",
       "  \"created\": 1695652179,\n",
       "  \"choices\": [\n",
       "    {\n",
       "      \"message\": {\n",
       "        \"role\": \"assistant\",\n",
       "        \"content\": null,\n",
       "        \"name\": null,\n",
       "        \"function_call\": {\n",
       "          \"name\": \"get_time\",\n",
       "          \"arguments\": \"{\\\"location\\\": \\\"Singapore\\\", \\\"format\\\": \\\"12-hour\\\"}\"\n",
       "        }\n",
       "      },\n",
       "      \"finish_reason\": \"function_call\"\n",
       "    }\n",
       "  ]\n",
       "}"
      ]
     },
     "execution_count": 3,
     "metadata": {},
     "output_type": "execute_result"
    }
   ],
   "source": [
    "# Call the model the first time with the functions\n",
    "messages = [{\"role\": \"user\", \"content\": \"Can you check what is the time in Singapore?\"}]\n",
    "response = openai.ChatCompletion.create(\n",
    "    model=\"jeffrey-fong/invoker-13b\",\n",
    "    messages=messages,\n",
    "    functions=[\n",
    "        {\n",
    "            \"name\": \"get_time\",\n",
    "            \"description\": \"Get the current time\",\n",
    "            \"parameters\": {\n",
    "                \"type\": \"object\",\n",
    "                \"properties\": {\n",
    "                    \"location\": {\n",
    "                        \"type\": \"string\",\n",
    "                        \"description\": \"The city and state, e.g. New York City, NY\"\n",
    "                    },\n",
    "                    \"format\": {\n",
    "                    \"type\": \"string\",\n",
    "                    \"enum\": [\"12-hour\", \"24-hour\"]\n",
    "                    }\n",
    "                },\n",
    "                \"required\": [\"location\"]\n",
    "            }\n",
    "        }\n",
    "    ]\n",
    ")\n",
    "response"
   ]
  },
  {
   "cell_type": "code",
   "execution_count": 8,
   "metadata": {},
   "outputs": [
    {
     "data": {
      "text/plain": [
       "<OpenAIObject chat.completion id=912bec9a-d3c6-473f-8161-702b45d393e2 at 0x7f2ba4553c90> JSON: {\n",
       "  \"id\": \"912bec9a-d3c6-473f-8161-702b45d393e2\",\n",
       "  \"object\": \"chat.completion\",\n",
       "  \"created\": 1695652744,\n",
       "  \"choices\": [\n",
       "    {\n",
       "      \"message\": {\n",
       "        \"role\": \"assistant\",\n",
       "        \"content\": \"The time in Singapore is 08:00 AM.\",\n",
       "        \"name\": null,\n",
       "        \"function_call\": null\n",
       "      },\n",
       "      \"finish_reason\": \"stop\"\n",
       "    }\n",
       "  ]\n",
       "}"
      ]
     },
     "execution_count": 8,
     "metadata": {},
     "output_type": "execute_result"
    }
   ],
   "source": [
    "response_message = response[\"choices\"][0][\"message\"]\n",
    "# Call the function indicated by the model if the model generates a function call\n",
    "# Append the messages and call the model again to get a summarized assistant response\n",
    "if response_message.get(\"function_call\"):\n",
    "    available_functions = {\"get_time\": get_time}\n",
    "    function_name = response_message[\"function_call\"][\"name\"]\n",
    "    function_to_call = available_functions[function_name]\n",
    "    function_args = json.loads(response_message[\"function_call\"][\"arguments\"])\n",
    "    function_response = function_to_call(\n",
    "        location=function_args.get(\"location\"),\n",
    "        format=function_args.get(\"format\"),\n",
    "    )\n",
    "    messages.append(response_message)\n",
    "    messages.append(\n",
    "        {\n",
    "            \"role\": \"function\",\n",
    "            \"name\": function_name,\n",
    "            \"content\": function_response,\n",
    "        }\n",
    "    )\n",
    "    second_response = openai.ChatCompletion.create(\n",
    "        model=\"jeffrey-fong/invoker-13b\",\n",
    "        messages=messages,\n",
    "    )\n",
    "second_response"
   ]
  }
 ],
 "metadata": {
  "kernelspec": {
   "display_name": "invoker",
   "language": "python",
   "name": "python3"
  },
  "language_info": {
   "codemirror_mode": {
    "name": "ipython",
    "version": 3
   },
   "file_extension": ".py",
   "mimetype": "text/x-python",
   "name": "python",
   "nbconvert_exporter": "python",
   "pygments_lexer": "ipython3",
   "version": "3.10.12"
  },
  "orig_nbformat": 4
 },
 "nbformat": 4,
 "nbformat_minor": 2
}
